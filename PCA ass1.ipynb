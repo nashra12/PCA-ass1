{
 "cells": [
  {
   "cell_type": "markdown",
   "id": "6c1c8782-18cb-4bf0-b27e-6c2e90bcc858",
   "metadata": {},
   "source": [
    "Q1. What is the curse of dimensionality reduction and why is it important in machine learning?\n",
    "Ans->The curse of dimensionality is a common problem in machine learning, where the performance of the model deteriorates as the number of features increases. This is because the complexity of the model increases with the number of features, and it becomes more difficult to find a good solution\n",
    "\n",
    "\n",
    "Q2. How does the curse of dimensionality impact the performance of machine learning algorithms?\n",
    "Ans->The Curse of Dimensionality significantly impacts machine learning algorithms in various ways. It leads to increased computational complexity, longer training times, and higher resource requirements.\n",
    "\n",
    "\n",
    "Q3. What are some of the consequences of the curse of dimensionality in machine learning, and how do\n",
    "they impact model performance?\n",
    "Ans-> It can lead to overfitting, increased computation, and data sparsity, making it challenging to derive meaningful insights from the data.\n",
    "\n",
    "\n",
    "Q4. Can you explain the concept of feature selection and how it can help with dimensionality reduction?\n",
    "Ans-> Basically we select the most important features and neglect the less necessay features ,suppose having a 2D data now we will select only the data which presence in x_axis by drawing the line from data points to x_axis therefore here we are neglecting y _axis and considering only variance and spread of x_axis.\n",
    "\n",
    "Q5. What are some limitations and drawbacks of using dimensionality reduction techniques in machine\n",
    "learning?\n",
    "Ans->    It may lead to some amount of data loss.\n",
    "    PCA tends to find linear correlations between variables, which is sometimes undesirable.\n",
    "    Data reduction can result in a loss of information, if important data is removed during the reduction process. \n",
    "    Impact on accuracy: Data reduction can impact the accuracy of a model, as reducing the size of the dataset can also remove important information that is needed for accurate predictions\n",
    "    \n",
    "    \n",
    "Q6. How does the curse of dimensionality relate to overfitting and underfitting in machine learning?\n",
    "Ans-> More dimensions mean more computational resources and time to process the data. Overfitting. With higher dimensions, models can become overly complex, fitting to the noise rather than the underlying pattern. This reduces the model's ability to generalize to new data.\n",
    "\n",
    "\n",
    "\n",
    "Q7. How can one determine the optimal number of dimensions to reduce data to when using\n",
    "dimensionality reduction techniques?"
   ]
  }
 ],
 "metadata": {
  "kernelspec": {
   "display_name": "Python 3 (ipykernel)",
   "language": "python",
   "name": "python3"
  },
  "language_info": {
   "codemirror_mode": {
    "name": "ipython",
    "version": 3
   },
   "file_extension": ".py",
   "mimetype": "text/x-python",
   "name": "python",
   "nbconvert_exporter": "python",
   "pygments_lexer": "ipython3",
   "version": "3.10.8"
  }
 },
 "nbformat": 4,
 "nbformat_minor": 5
}
